{
 "cells": [
  {
   "cell_type": "markdown",
   "metadata": {
    "collapsed": true,
    "deletable": true,
    "editable": true
   },
   "source": [
    "# Group 13 Final Report"
   ]
  },
  {
   "cell_type": "markdown",
   "metadata": {
    "deletable": true,
    "editable": true
   },
   "source": [
    "## 1) Data Source: \n",
    "#### The data source that we used for our semester project is boxofficemojo.com. This website shows the rankings of movies based on the gross income of domestic box offices. We used the top 15 movies from years 1990 to 2019 to retrieve the data about movie rankings, gross income, and number of theaters to create our visualizations and complete the analysis."
   ]
  },
  {
   "cell_type": "markdown",
   "metadata": {
    "deletable": true,
    "editable": true
   },
   "source": [
    "## 2) Description of Crawler and Parser\n",
    "#### To begin gathering the data, we needed to download  the html pages that have the rankings of top movies from 1990 to 2019. This was done by using the requents library in python. Since the URL of the page is 'https://www.boxofficemojo.com/year/'*insert_year*'/', we were able to write a script that automatically changes the year and appends it to the URL and download the specific HTML script and save it in a folder titled \"MOVIES\".\n",
    "#### Once the HTML pages were downloaded, we used BeautifulSoup to parse through them and scrape the data that was between the \"table\" tags (with the specific ID's containing the data we needed) on each page. Before doing so, we decided to use three variables: the ranking of the movies, the grossing, and the number of theaters that the movies were played in. To do this, we designed a parser that enters the \"MOVIES\" folder, goes through the HTML page for each year, takes all of the variables listed above, and appends them to separate lists. For this parser to run, all we would need to enter is the year to start with, and the folder containing the HTML scripts.\n"
   ]
  },
  {
   "cell_type": "markdown",
   "metadata": {
    "deletable": true,
    "editable": true
   },
   "source": [
    "### Import libraries needed"
   ]
  },
  {
   "cell_type": "code",
   "execution_count": 3,
   "metadata": {
    "collapsed": true,
    "deletable": true,
    "editable": true
   },
   "outputs": [],
   "source": [
    "from bs4 import BeautifulSoup\n",
    "# stdlib imports\n",
    "import requests\n",
    "import statistics as stat\n",
    "%matplotlib inline \n",
    "import matplotlib.pyplot as plt\n",
    "import numpy as np\n",
    "from scipy import stats\n",
    "from urllib.request import Request, urlopen\n",
    "import time\n",
    "import random"
   ]
  },
  {
   "cell_type": "markdown",
   "metadata": {
    "deletable": true,
    "editable": true
   },
   "source": [
    "### Get HTML pages from boxofficemojo.com and place in folder \"MOVIES\""
   ]
  },
  {
   "cell_type": "code",
   "execution_count": 4,
   "metadata": {
    "collapsed": false,
    "deletable": true,
    "editable": true
   },
   "outputs": [
    {
     "name": "stdout",
     "output_type": "stream",
     "text": [
      "Sleep for  2.9126756550052635  seconds\n",
      "Download from : https://www.boxofficemojo.com/year/1977/\n",
      "Save to :  MOVIES/1977.html \n",
      "\n",
      "Sleep for  0.08682757464592128  seconds\n",
      "Download from : https://www.boxofficemojo.com/year/1978/\n",
      "Save to :  MOVIES/1978.html \n",
      "\n",
      "Sleep for  3.437805629588857  seconds\n",
      "Download from : https://www.boxofficemojo.com/year/1979/\n",
      "Save to :  MOVIES/1979.html \n",
      "\n",
      "Sleep for  3.5143072637575306  seconds\n",
      "Download from : https://www.boxofficemojo.com/year/1980/\n",
      "Save to :  MOVIES/1980.html \n",
      "\n",
      "Sleep for  0.4660858279313529  seconds\n",
      "Download from : https://www.boxofficemojo.com/year/1981/\n",
      "Save to :  MOVIES/1981.html \n",
      "\n",
      "Sleep for  0.5099750466802089  seconds\n",
      "Download from : https://www.boxofficemojo.com/year/1982/\n",
      "Save to :  MOVIES/1982.html \n",
      "\n",
      "Sleep for  3.9767720153936796  seconds\n",
      "Download from : https://www.boxofficemojo.com/year/1983/\n",
      "Save to :  MOVIES/1983.html \n",
      "\n",
      "Sleep for  4.849845552408726  seconds\n",
      "Download from : https://www.boxofficemojo.com/year/1984/\n",
      "Save to :  MOVIES/1984.html \n",
      "\n",
      "Sleep for  3.3429182551526804  seconds\n",
      "Download from : https://www.boxofficemojo.com/year/1985/\n",
      "Save to :  MOVIES/1985.html \n",
      "\n",
      "Sleep for  3.053811818221532  seconds\n",
      "Download from : https://www.boxofficemojo.com/year/1986/\n",
      "Save to :  MOVIES/1986.html \n",
      "\n",
      "Sleep for  4.764534684525595  seconds\n",
      "Download from : https://www.boxofficemojo.com/year/1987/\n",
      "Save to :  MOVIES/1987.html \n",
      "\n",
      "Sleep for  2.823252240712624  seconds\n",
      "Download from : https://www.boxofficemojo.com/year/1988/\n",
      "Save to :  MOVIES/1988.html \n",
      "\n",
      "Sleep for  3.0964137166982697  seconds\n",
      "Download from : https://www.boxofficemojo.com/year/1989/\n",
      "Save to :  MOVIES/1989.html \n",
      "\n",
      "Sleep for  3.0715904824781592  seconds\n",
      "Download from : https://www.boxofficemojo.com/year/1990/\n",
      "Save to :  MOVIES/1990.html \n",
      "\n",
      "Sleep for  1.8530973224192655  seconds\n",
      "Download from : https://www.boxofficemojo.com/year/1991/\n",
      "Save to :  MOVIES/1991.html \n",
      "\n",
      "Sleep for  0.5254783878407643  seconds\n",
      "Download from : https://www.boxofficemojo.com/year/1992/\n",
      "Save to :  MOVIES/1992.html \n",
      "\n",
      "Sleep for  2.724385686015503  seconds\n",
      "Download from : https://www.boxofficemojo.com/year/1993/\n",
      "Save to :  MOVIES/1993.html \n",
      "\n",
      "Sleep for  3.327445065381236  seconds\n",
      "Download from : https://www.boxofficemojo.com/year/1994/\n",
      "Save to :  MOVIES/1994.html \n",
      "\n",
      "Sleep for  0.02425436343715115  seconds\n",
      "Download from : https://www.boxofficemojo.com/year/1995/\n",
      "Save to :  MOVIES/1995.html \n",
      "\n",
      "Sleep for  4.406310318800554  seconds\n",
      "Download from : https://www.boxofficemojo.com/year/1996/\n",
      "Save to :  MOVIES/1996.html \n",
      "\n",
      "Sleep for  0.5400703418995878  seconds\n",
      "Download from : https://www.boxofficemojo.com/year/1997/\n",
      "Save to :  MOVIES/1997.html \n",
      "\n",
      "Sleep for  0.5619188882088688  seconds\n",
      "Download from : https://www.boxofficemojo.com/year/1998/\n",
      "Save to :  MOVIES/1998.html \n",
      "\n",
      "Sleep for  2.4042518172254153  seconds\n",
      "Download from : https://www.boxofficemojo.com/year/1999/\n",
      "Save to :  MOVIES/1999.html \n",
      "\n",
      "Sleep for  1.830070159780373  seconds\n",
      "Download from : https://www.boxofficemojo.com/year/2000/\n",
      "Save to :  MOVIES/2000.html \n",
      "\n",
      "Sleep for  3.0199897473033523  seconds\n",
      "Download from : https://www.boxofficemojo.com/year/2001/\n",
      "Save to :  MOVIES/2001.html \n",
      "\n",
      "Sleep for  2.1206260787497855  seconds\n",
      "Download from : https://www.boxofficemojo.com/year/2002/\n",
      "Save to :  MOVIES/2002.html \n",
      "\n",
      "Sleep for  4.671028269820332  seconds\n",
      "Download from : https://www.boxofficemojo.com/year/2003/\n",
      "Save to :  MOVIES/2003.html \n",
      "\n",
      "Sleep for  1.4047555840411947  seconds\n",
      "Download from : https://www.boxofficemojo.com/year/2004/\n",
      "Save to :  MOVIES/2004.html \n",
      "\n",
      "Sleep for  2.1594278414223584  seconds\n",
      "Download from : https://www.boxofficemojo.com/year/2005/\n",
      "Save to :  MOVIES/2005.html \n",
      "\n",
      "Sleep for  0.6070650170379172  seconds\n",
      "Download from : https://www.boxofficemojo.com/year/2006/\n",
      "Save to :  MOVIES/2006.html \n",
      "\n",
      "Sleep for  0.5336328907605431  seconds\n",
      "Download from : https://www.boxofficemojo.com/year/2007/\n",
      "Save to :  MOVIES/2007.html \n",
      "\n",
      "Sleep for  2.964182063267224  seconds\n",
      "Download from : https://www.boxofficemojo.com/year/2008/\n",
      "Save to :  MOVIES/2008.html \n",
      "\n",
      "Sleep for  4.048273282146993  seconds\n",
      "Download from : https://www.boxofficemojo.com/year/2009/\n",
      "Save to :  MOVIES/2009.html \n",
      "\n",
      "Sleep for  3.901155226413949  seconds\n",
      "Download from : https://www.boxofficemojo.com/year/2010/\n",
      "Save to :  MOVIES/2010.html \n",
      "\n",
      "Sleep for  0.20747137332192023  seconds\n",
      "Download from : https://www.boxofficemojo.com/year/2011/\n",
      "Save to :  MOVIES/2011.html \n",
      "\n",
      "Sleep for  0.6752921099387899  seconds\n",
      "Download from : https://www.boxofficemojo.com/year/2012/\n",
      "Save to :  MOVIES/2012.html \n",
      "\n",
      "Sleep for  0.12999109442833334  seconds\n",
      "Download from : https://www.boxofficemojo.com/year/2013/\n",
      "Save to :  MOVIES/2013.html \n",
      "\n",
      "Sleep for  1.3518894197709352  seconds\n",
      "Download from : https://www.boxofficemojo.com/year/2014/\n",
      "Save to :  MOVIES/2014.html \n",
      "\n",
      "Sleep for  0.42609959975772493  seconds\n",
      "Download from : https://www.boxofficemojo.com/year/2015/\n",
      "Save to :  MOVIES/2015.html \n",
      "\n",
      "Sleep for  0.8073549445461742  seconds\n",
      "Download from : https://www.boxofficemojo.com/year/2016/\n",
      "Save to :  MOVIES/2016.html \n",
      "\n",
      "Sleep for  4.389795659520312  seconds\n",
      "Download from : https://www.boxofficemojo.com/year/2017/\n",
      "Save to :  MOVIES/2017.html \n",
      "\n",
      "Sleep for  0.2791807697284854  seconds\n",
      "Download from : https://www.boxofficemojo.com/year/2018/\n",
      "Save to :  MOVIES/2018.html \n",
      "\n",
      "Sleep for  0.19580687609375147  seconds\n",
      "Download from : https://www.boxofficemojo.com/year/2019/\n",
      "Save to :  MOVIES/2019.html \n",
      "\n"
     ]
    }
   ],
   "source": [
    "for y in range (1977, 2020, 1):\n",
    "    \n",
    "    tmp = random.random()*5.0\n",
    "    print ('Sleep for ', tmp, ' seconds')\n",
    "    time.sleep(tmp)\n",
    "\n",
    "    url = 'https://www.boxofficemojo.com/year/'+ str(y) + '/'\n",
    "    print ('Download from :', url)\n",
    "    \n",
    "    #dowlnload\n",
    "    req = Request(url, headers={'User-Agent': 'Mozilla/5.0'})\n",
    "    html = urlopen(req).read()\n",
    "\n",
    "\n",
    "\n",
    "    fileout = 'MOVIES/'+str(y)+'.html'\n",
    "    print ('Save to : ', fileout, '\\n')\n",
    "\n",
    "    #save file to disk\n",
    "    f = open(fileout,'w')\n",
    "    f.write(html.decode('utf-8'))\n",
    "    f.close()"
   ]
  },
  {
   "cell_type": "markdown",
   "metadata": {
    "deletable": true,
    "editable": true
   },
   "source": [
    "### Get data from the html pages"
   ]
  },
  {
   "cell_type": "code",
   "execution_count": 5,
   "metadata": {
    "collapsed": false,
    "deletable": true,
    "editable": true
   },
   "outputs": [],
   "source": [
    "movie_data = list()\n",
    "avggross =list()\n",
    "avgofranks = list()\n",
    "avgoftheaters = list()\n",
    "lstofgross = list()\n",
    "lstoftheater = list()\n",
    "grosstbl = list()\n",
    "theatertbl = list()\n",
    "\n",
    "def full_parser(year):\n",
    "    \n",
    "    while year < 2020:\n",
    "        print(\"Beginning process for \", year, \"data\")\n",
    "        html_doc = open('MOVIES/'+str(year)+'.html','r').read()\n",
    "\n",
    "        # Parse html content using BeautifulSoup\n",
    "        soup = BeautifulSoup(html_doc, 'lxml')\n",
    "        \n",
    "        #identify table\n",
    "        tbl1 = soup.find(id='table')\n",
    "        \n",
    "        #get movie titles\n",
    "        print(\"getting titles and number of theaters\")\n",
    "        title=tbl1.find_all('td', attrs={'class': 'a-text-left mojo-field-type-release mojo-cell-wide'})\n",
    "        \n",
    "        #loop to find the gross amount (not total gross), and convert string to int\n",
    "        print(\"getting gross\")\n",
    "        gross = tbl1.find_all('td',attrs={'class': 'a-text-right mojo-field-type-money mojo-estimatable'})\n",
    "        count = 0\n",
    "        k = 0\n",
    "        templst = []\n",
    "        #average of the gross for every year (there should be 30 numbers in the end)\n",
    "        tempavg = 0\n",
    "        #average of the gross by rank. There should be 15 at the end (1 for each rank)\n",
    "        rankavg = 0\n",
    "        while count < 15:\n",
    "            gross_int = gross[k].get_text()\n",
    "            gross_int = gross_int.replace(\"$\",\"\")\n",
    "            gross_int = gross_int.replace(\",\",\"\")\n",
    "            grosstbl.append(int(gross_int))\n",
    "            templst.append(int(gross_int))\n",
    "            k +=2\n",
    "            count +=1\n",
    "        #print(templst)\n",
    "        lstofgross.append(templst)\n",
    "        tempavg = stat.mean(templst)\n",
    "        avggross.append(tempavg)\n",
    "        \n",
    "            \n",
    "        #loop to find the number of theaters, convert theater numbers from string to int\n",
    "        print(\"getting number of theaters\")\n",
    "        theaters = tbl1.find_all('td',attrs={'class': 'a-text-right mojo-field-type-positive_integer'})\n",
    "        \n",
    "        theatertmplst = list()\n",
    "        count = 0\n",
    "        k = 0\n",
    "        while count < 15:\n",
    "            theater_int = theaters[k].get_text()\n",
    "            theater_int = theater_int.replace(\",\",\"\")\n",
    "            theatertbl.append(int(theater_int))\n",
    "            theatertmplst.append(int(theater_int))\n",
    "            k+=1\n",
    "            count+=1\n",
    "        lstoftheater.append(theatertmplst)\n",
    "        \n",
    "        #add data of the first fifteen movies from every year\n",
    "        print(\"adding data to list\")\n",
    "        counter = 0 \n",
    "        k = 0    \n",
    "        \n",
    "        while counter < 15:\n",
    "            name = title[k].get_text()\n",
    "            totalgross = grosstbl[k]\n",
    "            noOftheaters = theatertbl[k]\n",
    "            movie_data.append((name,totalgross,noOftheaters))\n",
    "            k+=1\n",
    "            counter +=1\n",
    "        \n",
    "        #move to next year\n",
    "        print()\n",
    "        year += 1\n",
    "    print()\n",
    "    print(\"Done!\")"
   ]
  },
  {
   "cell_type": "markdown",
   "metadata": {
    "deletable": true,
    "editable": true
   },
   "source": [
    "## Calling the function full_parser. For the assignment, we are working with the data from the last 30 years"
   ]
  },
  {
   "cell_type": "code",
   "execution_count": 6,
   "metadata": {
    "collapsed": false,
    "deletable": true,
    "editable": true,
    "scrolled": true
   },
   "outputs": [
    {
     "name": "stdout",
     "output_type": "stream",
     "text": [
      "Beginning process for  1990 data\n",
      "getting titles and number of theaters\n",
      "getting gross\n",
      "getting number of theaters\n",
      "adding data to list\n",
      "\n",
      "Beginning process for  1991 data\n",
      "getting titles and number of theaters\n",
      "getting gross\n",
      "getting number of theaters\n",
      "adding data to list\n",
      "\n",
      "Beginning process for  1992 data\n",
      "getting titles and number of theaters\n",
      "getting gross\n",
      "getting number of theaters\n",
      "adding data to list\n",
      "\n",
      "Beginning process for  1993 data\n",
      "getting titles and number of theaters\n",
      "getting gross\n",
      "getting number of theaters\n",
      "adding data to list\n",
      "\n",
      "Beginning process for  1994 data\n",
      "getting titles and number of theaters\n",
      "getting gross\n",
      "getting number of theaters\n",
      "adding data to list\n",
      "\n",
      "Beginning process for  1995 data\n",
      "getting titles and number of theaters\n",
      "getting gross\n",
      "getting number of theaters\n",
      "adding data to list\n",
      "\n",
      "Beginning process for  1996 data\n",
      "getting titles and number of theaters\n",
      "getting gross\n",
      "getting number of theaters\n",
      "adding data to list\n",
      "\n",
      "Beginning process for  1997 data\n",
      "getting titles and number of theaters\n",
      "getting gross\n",
      "getting number of theaters\n",
      "adding data to list\n",
      "\n",
      "Beginning process for  1998 data\n",
      "getting titles and number of theaters\n",
      "getting gross\n",
      "getting number of theaters\n",
      "adding data to list\n",
      "\n",
      "Beginning process for  1999 data\n",
      "getting titles and number of theaters\n",
      "getting gross\n",
      "getting number of theaters\n",
      "adding data to list\n",
      "\n",
      "Beginning process for  2000 data\n",
      "getting titles and number of theaters\n",
      "getting gross\n",
      "getting number of theaters\n",
      "adding data to list\n",
      "\n",
      "Beginning process for  2001 data\n",
      "getting titles and number of theaters\n",
      "getting gross\n",
      "getting number of theaters\n",
      "adding data to list\n",
      "\n",
      "Beginning process for  2002 data\n",
      "getting titles and number of theaters\n",
      "getting gross\n",
      "getting number of theaters\n",
      "adding data to list\n",
      "\n",
      "Beginning process for  2003 data\n",
      "getting titles and number of theaters\n",
      "getting gross\n",
      "getting number of theaters\n",
      "adding data to list\n",
      "\n",
      "Beginning process for  2004 data\n",
      "getting titles and number of theaters\n",
      "getting gross\n",
      "getting number of theaters\n",
      "adding data to list\n",
      "\n",
      "Beginning process for  2005 data\n",
      "getting titles and number of theaters\n",
      "getting gross\n",
      "getting number of theaters\n",
      "adding data to list\n",
      "\n",
      "Beginning process for  2006 data\n",
      "getting titles and number of theaters\n",
      "getting gross\n",
      "getting number of theaters\n",
      "adding data to list\n",
      "\n",
      "Beginning process for  2007 data\n",
      "getting titles and number of theaters\n",
      "getting gross\n",
      "getting number of theaters\n",
      "adding data to list\n",
      "\n",
      "Beginning process for  2008 data\n",
      "getting titles and number of theaters\n",
      "getting gross\n",
      "getting number of theaters\n",
      "adding data to list\n",
      "\n",
      "Beginning process for  2009 data\n",
      "getting titles and number of theaters\n",
      "getting gross\n",
      "getting number of theaters\n",
      "adding data to list\n",
      "\n",
      "Beginning process for  2010 data\n",
      "getting titles and number of theaters\n",
      "getting gross\n",
      "getting number of theaters\n",
      "adding data to list\n",
      "\n",
      "Beginning process for  2011 data\n",
      "getting titles and number of theaters\n",
      "getting gross\n",
      "getting number of theaters\n",
      "adding data to list\n",
      "\n",
      "Beginning process for  2012 data\n",
      "getting titles and number of theaters\n",
      "getting gross\n",
      "getting number of theaters\n",
      "adding data to list\n",
      "\n",
      "Beginning process for  2013 data\n",
      "getting titles and number of theaters\n",
      "getting gross\n",
      "getting number of theaters\n",
      "adding data to list\n",
      "\n",
      "Beginning process for  2014 data\n",
      "getting titles and number of theaters\n",
      "getting gross\n",
      "getting number of theaters\n",
      "adding data to list\n",
      "\n",
      "Beginning process for  2015 data\n",
      "getting titles and number of theaters\n",
      "getting gross\n",
      "getting number of theaters\n",
      "adding data to list\n",
      "\n",
      "Beginning process for  2016 data\n",
      "getting titles and number of theaters\n",
      "getting gross\n",
      "getting number of theaters\n",
      "adding data to list\n",
      "\n",
      "Beginning process for  2017 data\n",
      "getting titles and number of theaters\n",
      "getting gross\n",
      "getting number of theaters\n",
      "adding data to list\n",
      "\n",
      "Beginning process for  2018 data\n",
      "getting titles and number of theaters\n",
      "getting gross\n",
      "getting number of theaters\n",
      "adding data to list\n",
      "\n",
      "Beginning process for  2019 data\n",
      "getting titles and number of theaters\n",
      "getting gross\n",
      "getting number of theaters\n",
      "adding data to list\n",
      "\n",
      "\n",
      "Done!\n"
     ]
    }
   ],
   "source": [
    "full_parser(1990)"
   ]
  },
  {
   "cell_type": "markdown",
   "metadata": {
    "deletable": true,
    "editable": true
   },
   "source": [
    "## Data extracted"
   ]
  },
  {
   "cell_type": "code",
   "execution_count": 30,
   "metadata": {
    "collapsed": false,
    "deletable": true,
    "editable": true,
    "scrolled": false
   },
   "outputs": [],
   "source": [
    "# for i in movie_data:\n",
    "#     print(i)\n",
    "#print (avggross)"
   ]
  },
  {
   "cell_type": "markdown",
   "metadata": {
    "deletable": true,
    "editable": true
   },
   "source": [
    "## Perform linear regression on average gross over 30 years and time"
   ]
  },
  {
   "cell_type": "code",
   "execution_count": 7,
   "metadata": {
    "collapsed": false,
    "deletable": true,
    "editable": true,
    "scrolled": false
   },
   "outputs": [
    {
     "name": "stdout",
     "output_type": "stream",
     "text": [
      "alpha :  -15458418759.56394\n",
      "beta :  7814090.445324434\n",
      "correlation coefficient :  0.962654579155943\n"
     ]
    },
    {
     "data": {
      "image/png": "[encoded data removed]",
      "text/plain": [
       "<Figure size 360x360 with 1 Axes>"
      ]
     },
     "metadata": {},
     "output_type": "display_data"
    }
   ],
   "source": [
    "years = np.arange(1990, 2020, 1)\n",
    "\n",
    "plt.figure(figsize=(5,5))\n",
    "plt.rc('text', usetex=True)\n",
    "plt.rc('font', size=24, **{'family':'DejaVu Sans','sans-serif':['Helvetica']})\n",
    "plt.rcParams['xtick.major.pad'] = 8\n",
    "plt.rcParams['ytick.major.pad'] = 8\n",
    "\n",
    "plt.plot(years,avggross, marker='o', color ='r', markersize=5, linewidth=0)\n",
    "\n",
    "\n",
    "slope, intercept, r_value, p_value, std_err = stats.linregress(years,avggross)\n",
    "print ('alpha : ', intercept)\n",
    "print ('beta : ', slope)\n",
    "print ('correlation coefficient : ', r_value)\n",
    "\n",
    "\n",
    "\n",
    "best_fit_x = np.arange(min(years), max(years), 1)\n",
    "best_fit_y = intercept + slope * best_fit_x\n",
    "plt.plot(best_fit_x, best_fit_y, color ='k', markersize=0, linewidth=3, linestyle='-', alpha = 0.5)\n",
    "\n",
    "\n",
    "plt.xlabel('Year')\n",
    "plt.ylabel('Average Gross (in 100 million dollars)')\n",
    "\n",
    "\n",
    "\n",
    "plt.show()"
   ]
  },
  {
   "cell_type": "markdown",
   "metadata": {
    "deletable": true,
    "editable": true
   },
   "source": [
    "#### The above graph displays movie data from a span of 30 years (1990 to 2020). The x-axis is Year and the y-axis is the average gross (in 100 millions) of the top ranking movies during each year. Each of the points on the graph represent the average gross amount for the top 15 movies of that year (1 data point = 15 movies). Based on the visualization and the correlation coefficient, we can interpret that there is overall a positive correlation between the two variables. This can highlight the overall film industry growth over the last 30 years. "
   ]
  },
  {
   "cell_type": "markdown",
   "metadata": {
    "deletable": true,
    "editable": true
   },
   "source": [
    "## Further extract data. \n",
    "#### get a list of the average gross of every rank\n",
    "#### get a list of the average number of theaters for every rank\n",
    "#### There are 15 for each"
   ]
  },
  {
   "cell_type": "code",
   "execution_count": 8,
   "metadata": {
    "collapsed": false,
    "deletable": true,
    "editable": true
   },
   "outputs": [],
   "source": [
    "rank1 = []\n",
    "for i in lstofgross:\n",
    "        rank1.append(i[0])\n",
    "avg1 = stat.mean(rank1)\n",
    "\n",
    "rank2 = []\n",
    "for i in lstofgross:\n",
    "        rank2.append(i[1])\n",
    "avg2 = stat.mean(rank2)\n",
    "rank3 = []\n",
    "for i in lstofgross:\n",
    "        rank3.append(i[2])\n",
    "avg3 = stat.mean(rank3)\n",
    "rank4 = []\n",
    "for i in lstofgross:\n",
    "        rank4.append(i[3])\n",
    "avg4 = stat.mean(rank4)\n",
    "rank5 = []\n",
    "for i in lstofgross:\n",
    "        rank5.append(i[4])\n",
    "avg5 = stat.mean(rank5)\n",
    "rank6 = []\n",
    "for i in lstofgross:\n",
    "        rank6.append(i[5])\n",
    "avg6 = stat.mean(rank6)\n",
    "rank7 = []\n",
    "for i in lstofgross:\n",
    "        rank7.append(i[6])\n",
    "avg7 = stat.mean(rank7)\n",
    "rank8 = []\n",
    "for i in lstofgross:\n",
    "        rank8.append(i[7])\n",
    "avg8 = stat.mean(rank8)\n",
    "rank9 = []\n",
    "for i in lstofgross:\n",
    "        rank9.append(i[8])\n",
    "avg9 = stat.mean(rank9)\n",
    "rank10 = []\n",
    "for i in lstofgross:\n",
    "        rank10.append(i[9])\n",
    "avg10 = stat.mean(rank10)\n",
    "rank11 = []\n",
    "for i in lstofgross:\n",
    "        rank11.append(i[10])\n",
    "avg11 = stat.mean(rank11)\n",
    "rank12 = []\n",
    "for i in lstofgross:\n",
    "        rank12.append(i[11])\n",
    "avg12 = stat.mean(rank12)\n",
    "rank13 = []\n",
    "for i in lstofgross:\n",
    "        rank13.append(i[12])\n",
    "avg13 = stat.mean(rank13)\n",
    "rank14 = []\n",
    "for i in lstofgross:\n",
    "        rank14.append(i[13])\n",
    "avg14 = stat.mean(rank14)\n",
    "rank15 = []\n",
    "for i in lstofgross:\n",
    "        rank15.append(i[14])\n",
    "avg15 = stat.mean(rank15)\n",
    "\n",
    "all_avgs = [avg1,avg2,avg3,avg4,avg5,avg6,avg7,avg8,avg9,avg10,avg11,avg12,avg13,avg14,avg15]\n",
    "\n",
    "theater1 = []\n",
    "for i in lstoftheater:\n",
    "        theater1.append(i[0])\n",
    "avgtheater1 = stat.mean(theater1)\n",
    "\n",
    "theater2 = []\n",
    "for i in lstoftheater:\n",
    "        theater2.append(i[1])\n",
    "avgtheater2 = stat.mean(theater2)\n",
    "\n",
    "theater3 = []\n",
    "for i in lstoftheater:\n",
    "        theater3.append(i[2])\n",
    "avgtheater3 = stat.mean(theater3)\n",
    "theater4 = []\n",
    "for i in lstoftheater:\n",
    "        theater4.append(i[3])\n",
    "avgtheater4 = stat.mean(theater4)\n",
    "theater5 = []\n",
    "for i in lstoftheater:\n",
    "        theater5.append(i[4])\n",
    "avgtheater5 = stat.mean(theater5)\n",
    "theater6 = []\n",
    "for i in lstoftheater:\n",
    "        theater6.append(i[5])\n",
    "avgtheater6 = stat.mean(theater6)\n",
    "theater7 = []\n",
    "for i in lstoftheater:\n",
    "        theater7.append(i[6])\n",
    "avgtheater7 = stat.mean(theater7)\n",
    "theater8 = []\n",
    "for i in lstoftheater:\n",
    "        theater8.append(i[7])\n",
    "avgtheater8 = stat.mean(theater8)\n",
    "theater9 = []\n",
    "for i in lstoftheater:\n",
    "        theater9.append(i[8])\n",
    "avgtheater9 = stat.mean(theater9)\n",
    "theater10 = []\n",
    "for i in lstoftheater:\n",
    "        theater10.append(i[9])\n",
    "avgtheater10 = stat.mean(theater10)\n",
    "theater11 = []\n",
    "for i in lstoftheater:\n",
    "        theater11.append(i[10])\n",
    "avgtheater11 = stat.mean(theater11)\n",
    "theater12 = []\n",
    "for i in lstoftheater:\n",
    "        theater12.append(i[11])\n",
    "avgtheater12 = stat.mean(theater12)\n",
    "theater13 = []\n",
    "for i in lstoftheater:\n",
    "        theater13.append(i[12])\n",
    "avgtheater13 = stat.mean(theater13)\n",
    "theater14 = []\n",
    "for i in lstoftheater:\n",
    "        theater14.append(i[13])\n",
    "avgtheater14 = stat.mean(theater14)\n",
    "theater15 = []\n",
    "for i in lstoftheater:\n",
    "        theater15.append(i[14])\n",
    "avgtheater15 = stat.mean(theater15)\n",
    "\n",
    "all_avg_theaters = [avgtheater1,avgtheater2,avgtheater3,avgtheater4,avgtheater5,avgtheater6,avgtheater7,avgtheater8,avgtheater9,avgtheater10,avgtheater11,avgtheater12,avgtheater13,avgtheater14,avgtheater15]\n",
    "#print(all_avgs)\n",
    "#print(all_avg_theaters)\n"
   ]
  },
  {
   "cell_type": "markdown",
   "metadata": {
    "deletable": true,
    "editable": true
   },
   "source": [
    "### Perform linear regression on average number of theaters the movies were played in, and the gross of movies based on their rankings"
   ]
  },
  {
   "cell_type": "code",
   "execution_count": 9,
   "metadata": {
    "collapsed": false,
    "deletable": true,
    "editable": true,
    "scrolled": true
   },
   "outputs": [
    {
     "name": "stdout",
     "output_type": "stream",
     "text": [
      "alpha :  -1220129420.1263607\n",
      "beta :  425528.7010590278\n",
      "correlation coefficient :  0.8858102163199645\n"
     ]
    },
    {
     "data": {
      "image/png": "[encoded data removed]",
      "text/plain": [
       "<Figure size 360x360 with 1 Axes>"
      ]
     },
     "metadata": {},
     "output_type": "display_data"
    }
   ],
   "source": [
    "x = all_avg_theaters\n",
    "y = all_avgs\n",
    "\n",
    "plt.figure(figsize=(5,5))\n",
    "plt.rc('text', usetex=True)\n",
    "plt.rc('font', size=24, **{'family':'DejaVu Sans','sans-serif':['Helvetica']})\n",
    "plt.rcParams['xtick.major.pad'] = 8\n",
    "plt.rcParams['ytick.major.pad'] = 8\n",
    "\n",
    "plt.plot(x,y, marker='o', color ='r', markersize=5, linewidth=0)\n",
    "\n",
    "\n",
    "slope, intercept, r_value, p_value, std_err = stats.linregress(x,y)\n",
    "print ('alpha : ', intercept)\n",
    "print ('beta : ', slope)\n",
    "print ('correlation coefficient : ', r_value)\n",
    "\n",
    "\n",
    "\n",
    "best_fit_x = np.arange(min(x), max(x), 1)\n",
    "best_fit_y = intercept + slope * best_fit_x\n",
    "plt.plot(best_fit_x, best_fit_y, color ='k', markersize=0, linewidth=3, linestyle='-', alpha = 0.5)\n",
    "\n",
    "\n",
    "plt.xlabel('Average Number of Theaters By Rank')\n",
    "plt.ylabel('Average of Ranking Gross')\n",
    "\n",
    "\n",
    "\n",
    "\n",
    "plt.show()"
   ]
  },
  {
   "cell_type": "markdown",
   "metadata": {
    "collapsed": true,
    "deletable": true,
    "editable": true
   },
   "source": [
    "#### The above graph utilizes data from a span of 30 years (1990 to 2020). The x-axis is Average Number of Theaters by Rank and the y-axis is Average of Ranking Gross. The purpose of this graph is to take the top-ranked movies of each year in our time window (top 15 movies per year), average the movie rankings of each year, and determine if there is a relationship between the averages and the number of movie theaters. Based on this visualization, we can interpret that there is a positive correlation between the two variables. This shows that the average number of theaters that a movie is played in directly correlates to it's ranking in the top 15 movies."
   ]
  },
  {
   "cell_type": "markdown",
   "metadata": {
    "deletable": true,
    "editable": true
   },
   "source": [
    "# Further Analysis\n",
    "#### In the Histogram, we have the gross income (100 millions) on the x-axis split into 50 bins, and the number of movies that fall into each bin on the y-axis. From this histogram, we can see that the data is skewed to the right. There are a lot of movies in the $100,000,000 - $250,000,000 bins and fewer movies making significantly more money than the rest."
   ]
  },
  {
   "cell_type": "code",
   "execution_count": 10,
   "metadata": {
    "collapsed": false,
    "deletable": true,
    "editable": true
   },
   "outputs": [
    {
     "data": {
      "text/plain": [
       "Text(0,0.5,'Number of Movies')"
      ]
     },
     "execution_count": 10,
     "metadata": {},
     "output_type": "execute_result"
    },
    {
     "data": {
      "image/png": "[encoded data removed]",
      "text/plain": [
       "<Figure size 432x288 with 1 Axes>"
      ]
     },
     "metadata": {},
     "output_type": "display_data"
    }
   ],
   "source": [
    "\n",
    "# Histograms can also be plotted similar to barcharts\n",
    "\n",
    "# Let's create some number at random\n",
    "x = grosstbl\n",
    "#for i in range(100):\n",
    "#    x.append(random.gauss(0,1))\n",
    "\n",
    "#number of bins you want\n",
    "mybins = 50\n",
    "#alpha is transparency\n",
    "plt.hist(x, bins = mybins, alpha=0.5) # Hist function computes histogram\n",
    "\n",
    "plt.xlabel('Gross Value', fontsize=12)\n",
    "plt.ylabel('Number of Movies', fontsize=12)\n"
   ]
  },
  {
   "cell_type": "markdown",
   "metadata": {
    "deletable": true,
    "editable": true
   },
   "source": [
    "### The box and whisker plot is slightly skewed to the left, opposite of the histogram. A large number of movies in our data set were shown in a large number of theaters, with fewer movies being shown in fewer theaters. "
   ]
  },
  {
   "cell_type": "code",
   "execution_count": 11,
   "metadata": {
    "collapsed": false,
    "deletable": true,
    "editable": true
   },
   "outputs": [
    {
     "data": {
      "image/png": "[encoded data removed]",
      "text/plain": [
       "<Figure size 432x288 with 1 Axes>"
      ]
     },
     "metadata": {},
     "output_type": "display_data"
    }
   ],
   "source": [
    "plt.boxplot(theatertbl)\n",
    "plt.ylabel('Number of Theaters', fontsize=12)\n",
    "plt.show()"
   ]
  },
  {
   "cell_type": "markdown",
   "metadata": {
    "deletable": true,
    "editable": true
   },
   "source": [
    "#### The two visuals show that the gross amount that a movie made is skewed right and the number of theaters that the top 15 movies of each year were played in is skewed left. This highlights an inverse relationship between the two. Possible explanations for this include:\n",
    "#### 1) The standards for outstanding movies drastically increased over time\n",
    "#### 2) Inflation\n",
    "#### 3) Most of the top 15 movies are from big production companies"
   ]
  },
  {
   "cell_type": "markdown",
   "metadata": {
    "deletable": true,
    "editable": true
   },
   "source": [
    "## Summary and Conclusion"
   ]
  },
  {
   "cell_type": "markdown",
   "metadata": {
    "deletable": true,
    "editable": true
   },
   "source": [
    "#### The first scatterplot from 1990 to 2020 which is the past 30 years. Each of the graphs represent the average gross amount for the two 15 movies of the year. Based on the visualization and the correlation coefficient, we can tell that there is overall a positive correlation between the two variables.\n",
    "#### The second scatterplot takes the top ranked movies of each year in our time window(top 15 movies per year) . average the movies rankings of each year, determine if there is a relationship between the averages and the number of movies.we can see that there is a positive correlation between the two variables.\n",
    "#### Compared to those two scatterplot .96 for the first one is very strong, and .88 for the second one is also strong but not strong as the first one. There is a strong positive correlation for both of them.\n",
    "#### The standard for outstanding movies drastically increased over time, because good movies are getting better. inflation, the values of money is changing and since we looking for the top 15 movies each years, it's going to come for a big production companies\n"
   ]
  }
 ],
 "metadata": {
  "kernelspec": {
   "display_name": "Python 3",
   "language": "python",
   "name": "python3"
  },
  "language_info": {
   "codemirror_mode": {
    "name": "ipython",
    "version": 3
   },
   "file_extension": ".py",
   "mimetype": "text/x-python",
   "name": "python",
   "nbconvert_exporter": "python",
   "pygments_lexer": "ipython3",
   "version": "3.4.3"
  }
 },
 "nbformat": 4,
 "nbformat_minor": 2
}
